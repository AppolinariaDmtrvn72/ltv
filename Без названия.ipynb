{
 "cells": [
  {
   "cell_type": "code",
   "execution_count": 1,
   "metadata": {},
   "outputs": [],
   "source": [
    "import pandas as pd"
   ]
  },
  {
   "cell_type": "code",
   "execution_count": 2,
   "metadata": {},
   "outputs": [
    {
     "name": "stdout",
     "output_type": "stream",
     "text": [
      "extractor.py                  visits\r\n",
      "purchases                     Без названия.ipynb\r\n"
     ]
    }
   ],
   "source": [
    "!ls"
   ]
  },
  {
   "cell_type": "code",
   "execution_count": 3,
   "metadata": {},
   "outputs": [
    {
     "name": "stderr",
     "output_type": "stream",
     "text": [
      "/Users/polinatumanova/opt/anaconda3/lib/python3.8/site-packages/IPython/core/interactiveshell.py:3146: DtypeWarning: Columns (5) have mixed types.Specify dtype option on import or set low_memory=False.\n",
      "  has_raised = await self.run_ast_nodes(code_ast.body, cell_name,\n"
     ]
    },
    {
     "data": {
      "text/html": [
       "<div>\n",
       "<style scoped>\n",
       "    .dataframe tbody tr th:only-of-type {\n",
       "        vertical-align: middle;\n",
       "    }\n",
       "\n",
       "    .dataframe tbody tr th {\n",
       "        vertical-align: top;\n",
       "    }\n",
       "\n",
       "    .dataframe thead th {\n",
       "        text-align: right;\n",
       "    }\n",
       "</style>\n",
       "<table border=\"1\" class=\"dataframe\">\n",
       "  <thead>\n",
       "    <tr style=\"text-align: right;\">\n",
       "      <th></th>\n",
       "      <th>device</th>\n",
       "      <th>end_ts</th>\n",
       "      <th>source_id</th>\n",
       "      <th>start_dt</th>\n",
       "      <th>start_ts</th>\n",
       "      <th>uid</th>\n",
       "    </tr>\n",
       "  </thead>\n",
       "  <tbody>\n",
       "    <tr>\n",
       "      <th>0</th>\n",
       "      <td>desktop</td>\n",
       "      <td>2016-11-30T11:04:17Z</td>\n",
       "      <td>2</td>\n",
       "      <td>2016-11-30</td>\n",
       "      <td>2016-11-30T10:53:49Z</td>\n",
       "      <td>3758486201</td>\n",
       "    </tr>\n",
       "    <tr>\n",
       "      <th>1</th>\n",
       "      <td>desktop</td>\n",
       "      <td>2016-11-10T23:16:57Z</td>\n",
       "      <td>4</td>\n",
       "      <td>2016-11-10</td>\n",
       "      <td>2016-11-10T23:08:04Z</td>\n",
       "      <td>2933941628</td>\n",
       "    </tr>\n",
       "    <tr>\n",
       "      <th>2</th>\n",
       "      <td>desktop</td>\n",
       "      <td>2016-10-19T18:51:56Z</td>\n",
       "      <td>1</td>\n",
       "      <td>2016-10-19</td>\n",
       "      <td>2016-10-19T18:48:16Z</td>\n",
       "      <td>1465872791</td>\n",
       "    </tr>\n",
       "    <tr>\n",
       "      <th>3</th>\n",
       "      <td>desktop</td>\n",
       "      <td>2017-01-12T20:51:55Z</td>\n",
       "      <td>9</td>\n",
       "      <td>2017-01-12</td>\n",
       "      <td>2017-01-12T20:50:10Z</td>\n",
       "      <td>2751875787</td>\n",
       "    </tr>\n",
       "    <tr>\n",
       "      <th>4</th>\n",
       "      <td>touch</td>\n",
       "      <td>2016-07-23T19:17:19Z</td>\n",
       "      <td>4</td>\n",
       "      <td>2016-07-23</td>\n",
       "      <td>2016-07-23T19:10:57Z</td>\n",
       "      <td>3492372810</td>\n",
       "    </tr>\n",
       "  </tbody>\n",
       "</table>\n",
       "</div>"
      ],
      "text/plain": [
       "    device                end_ts  source_id    start_dt              start_ts  \\\n",
       "0  desktop  2016-11-30T11:04:17Z          2  2016-11-30  2016-11-30T10:53:49Z   \n",
       "1  desktop  2016-11-10T23:16:57Z          4  2016-11-10  2016-11-10T23:08:04Z   \n",
       "2  desktop  2016-10-19T18:51:56Z          1  2016-10-19  2016-10-19T18:48:16Z   \n",
       "3  desktop  2017-01-12T20:51:55Z          9  2017-01-12  2017-01-12T20:50:10Z   \n",
       "4    touch  2016-07-23T19:17:19Z          4  2016-07-23  2016-07-23T19:10:57Z   \n",
       "\n",
       "          uid  \n",
       "0  3758486201  \n",
       "1  2933941628  \n",
       "2  1465872791  \n",
       "3  2751875787  \n",
       "4  3492372810  "
      ]
     },
     "execution_count": 3,
     "metadata": {},
     "output_type": "execute_result"
    }
   ],
   "source": [
    "visits = pd.read_csv('visits', sep='\\t')"
   ]
  },
  {
   "cell_type": "code",
   "execution_count": 4,
   "metadata": {},
   "outputs": [
    {
     "data": {
      "text/html": [
       "<div>\n",
       "<style scoped>\n",
       "    .dataframe tbody tr th:only-of-type {\n",
       "        vertical-align: middle;\n",
       "    }\n",
       "\n",
       "    .dataframe tbody tr th {\n",
       "        vertical-align: top;\n",
       "    }\n",
       "\n",
       "    .dataframe thead th {\n",
       "        text-align: right;\n",
       "    }\n",
       "</style>\n",
       "<table border=\"1\" class=\"dataframe\">\n",
       "  <thead>\n",
       "    <tr style=\"text-align: right;\">\n",
       "      <th></th>\n",
       "      <th>buy_ts</th>\n",
       "      <th>uid</th>\n",
       "      <th>revenue</th>\n",
       "    </tr>\n",
       "  </thead>\n",
       "  <tbody>\n",
       "    <tr>\n",
       "      <th>0</th>\n",
       "      <td>23.07.2016 19:13:54</td>\n",
       "      <td>3492372810</td>\n",
       "      <td>1,47</td>\n",
       "    </tr>\n",
       "    <tr>\n",
       "      <th>1</th>\n",
       "      <td>06.11.2016 02:48:27</td>\n",
       "      <td>1564753091</td>\n",
       "      <td>1,11</td>\n",
       "    </tr>\n",
       "    <tr>\n",
       "      <th>2</th>\n",
       "      <td>31.01.2017 20:32:42</td>\n",
       "      <td>1385616391</td>\n",
       "      <td>16,8</td>\n",
       "    </tr>\n",
       "    <tr>\n",
       "      <th>3</th>\n",
       "      <td>11.01.2017 10:52:11</td>\n",
       "      <td>2636761148</td>\n",
       "      <td>11</td>\n",
       "    </tr>\n",
       "    <tr>\n",
       "      <th>4</th>\n",
       "      <td>25.11.2016 18:57:09</td>\n",
       "      <td>2945629974</td>\n",
       "      <td>4,89</td>\n",
       "    </tr>\n",
       "  </tbody>\n",
       "</table>\n",
       "</div>"
      ],
      "text/plain": [
       "                buy_ts         uid revenue\n",
       "0  23.07.2016 19:13:54  3492372810    1,47\n",
       "1  06.11.2016 02:48:27  1564753091    1,11\n",
       "2  31.01.2017 20:32:42  1385616391    16,8\n",
       "3  11.01.2017 10:52:11  2636761148      11\n",
       "4  25.11.2016 18:57:09  2945629974    4,89"
      ]
     },
     "execution_count": 4,
     "metadata": {},
     "output_type": "execute_result"
    }
   ],
   "source": [
    "purchases = pd.read_csv('purchases', sep='\\t')\n",
    "purchases.head()"
   ]
  },
  {
   "cell_type": "code",
   "execution_count": 5,
   "metadata": {},
   "outputs": [
    {
     "data": {
      "text/html": [
       "<div>\n",
       "<style scoped>\n",
       "    .dataframe tbody tr th:only-of-type {\n",
       "        vertical-align: middle;\n",
       "    }\n",
       "\n",
       "    .dataframe tbody tr th {\n",
       "        vertical-align: top;\n",
       "    }\n",
       "\n",
       "    .dataframe thead th {\n",
       "        text-align: right;\n",
       "    }\n",
       "</style>\n",
       "<table border=\"1\" class=\"dataframe\">\n",
       "  <thead>\n",
       "    <tr style=\"text-align: right;\">\n",
       "      <th></th>\n",
       "      <th>device</th>\n",
       "      <th>end_ts</th>\n",
       "      <th>source_id</th>\n",
       "      <th>start_dt</th>\n",
       "      <th>start_ts</th>\n",
       "      <th>uid</th>\n",
       "      <th>buy_ts</th>\n",
       "      <th>revenue</th>\n",
       "    </tr>\n",
       "  </thead>\n",
       "  <tbody>\n",
       "    <tr>\n",
       "      <th>0</th>\n",
       "      <td>desktop</td>\n",
       "      <td>2017-02-16T18:59:51Z</td>\n",
       "      <td>5</td>\n",
       "      <td>2017-02-16</td>\n",
       "      <td>2017-02-16T17:48:12Z</td>\n",
       "      <td>2667883540</td>\n",
       "      <td>16.02.2017 18:05:48</td>\n",
       "      <td>1,22</td>\n",
       "    </tr>\n",
       "    <tr>\n",
       "      <th>1</th>\n",
       "      <td>desktop</td>\n",
       "      <td>2017-02-13T12:36:23Z</td>\n",
       "      <td>5</td>\n",
       "      <td>2017-02-13</td>\n",
       "      <td>2017-02-13T11:56:35Z</td>\n",
       "      <td>2667883540</td>\n",
       "      <td>16.02.2017 18:05:48</td>\n",
       "      <td>1,22</td>\n",
       "    </tr>\n",
       "    <tr>\n",
       "      <th>2</th>\n",
       "      <td>desktop</td>\n",
       "      <td>2017-02-18T12:43:27Z</td>\n",
       "      <td>1</td>\n",
       "      <td>2017-02-18</td>\n",
       "      <td>2017-02-18T12:37:45Z</td>\n",
       "      <td>2667883540</td>\n",
       "      <td>16.02.2017 18:05:48</td>\n",
       "      <td>1,22</td>\n",
       "    </tr>\n",
       "    <tr>\n",
       "      <th>3</th>\n",
       "      <td>touch</td>\n",
       "      <td>2016-10-28T16:19:08Z</td>\n",
       "      <td>3</td>\n",
       "      <td>2016-10-28</td>\n",
       "      <td>2016-10-28T16:01:56Z</td>\n",
       "      <td>1521744</td>\n",
       "      <td>28.10.2016 16:07:57</td>\n",
       "      <td>3,3</td>\n",
       "    </tr>\n",
       "    <tr>\n",
       "      <th>4</th>\n",
       "      <td>desktop</td>\n",
       "      <td>2016-07-05T23:40:06Z</td>\n",
       "      <td>4</td>\n",
       "      <td>2016-07-05</td>\n",
       "      <td>2016-07-05T23:37:01Z</td>\n",
       "      <td>1220989698</td>\n",
       "      <td>19.01.2017 16:09:57</td>\n",
       "      <td>0,92</td>\n",
       "    </tr>\n",
       "  </tbody>\n",
       "</table>\n",
       "</div>"
      ],
      "text/plain": [
       "    device                end_ts  source_id    start_dt              start_ts  \\\n",
       "0  desktop  2017-02-16T18:59:51Z          5  2017-02-16  2017-02-16T17:48:12Z   \n",
       "1  desktop  2017-02-13T12:36:23Z          5  2017-02-13  2017-02-13T11:56:35Z   \n",
       "2  desktop  2017-02-18T12:43:27Z          1  2017-02-18  2017-02-18T12:37:45Z   \n",
       "3    touch  2016-10-28T16:19:08Z          3  2016-10-28  2016-10-28T16:01:56Z   \n",
       "4  desktop  2016-07-05T23:40:06Z          4  2016-07-05  2016-07-05T23:37:01Z   \n",
       "\n",
       "          uid               buy_ts revenue  \n",
       "0  2667883540  16.02.2017 18:05:48    1,22  \n",
       "1  2667883540  16.02.2017 18:05:48    1,22  \n",
       "2  2667883540  16.02.2017 18:05:48    1,22  \n",
       "3     1521744  28.10.2016 16:07:57     3,3  \n",
       "4  1220989698  19.01.2017 16:09:57    0,92  "
      ]
     },
     "execution_count": 5,
     "metadata": {},
     "output_type": "execute_result"
    }
   ],
   "source": [
    "joined_df = pd.merge(visits, purchases, how='inner', on=['uid', 'uid'])\n",
    "joined_df.head()"
   ]
  },
  {
   "cell_type": "code",
   "execution_count": 6,
   "metadata": {},
   "outputs": [],
   "source": [
    "values = joined_df.values"
   ]
  },
  {
   "cell_type": "code",
   "execution_count": 7,
   "metadata": {},
   "outputs": [],
   "source": [
    "from datetime import datetime"
   ]
  },
  {
   "cell_type": "code",
   "execution_count": 8,
   "metadata": {},
   "outputs": [],
   "source": [
    "pattern = \"%d.%m.%Y %H:%M:%S\""
   ]
  },
  {
   "cell_type": "code",
   "execution_count": 9,
   "metadata": {},
   "outputs": [],
   "source": [
    "joined_df['buy_ts'] = list(map(lambda time: int(datetime.strptime(time, pattern).timestamp()), joined_df['buy_ts'].values))"
   ]
  },
  {
   "cell_type": "code",
   "execution_count": 10,
   "metadata": {},
   "outputs": [
    {
     "data": {
      "text/html": [
       "<div>\n",
       "<style scoped>\n",
       "    .dataframe tbody tr th:only-of-type {\n",
       "        vertical-align: middle;\n",
       "    }\n",
       "\n",
       "    .dataframe tbody tr th {\n",
       "        vertical-align: top;\n",
       "    }\n",
       "\n",
       "    .dataframe thead th {\n",
       "        text-align: right;\n",
       "    }\n",
       "</style>\n",
       "<table border=\"1\" class=\"dataframe\">\n",
       "  <thead>\n",
       "    <tr style=\"text-align: right;\">\n",
       "      <th></th>\n",
       "      <th>device</th>\n",
       "      <th>end_ts</th>\n",
       "      <th>source_id</th>\n",
       "      <th>start_dt</th>\n",
       "      <th>start_ts</th>\n",
       "      <th>uid</th>\n",
       "      <th>buy_ts</th>\n",
       "      <th>revenue</th>\n",
       "    </tr>\n",
       "  </thead>\n",
       "  <tbody>\n",
       "    <tr>\n",
       "      <th>0</th>\n",
       "      <td>desktop</td>\n",
       "      <td>2017-02-16T18:59:51Z</td>\n",
       "      <td>5</td>\n",
       "      <td>2017-02-16</td>\n",
       "      <td>2017-02-16T17:48:12Z</td>\n",
       "      <td>2667883540</td>\n",
       "      <td>1487257548</td>\n",
       "      <td>1,22</td>\n",
       "    </tr>\n",
       "    <tr>\n",
       "      <th>1</th>\n",
       "      <td>desktop</td>\n",
       "      <td>2017-02-13T12:36:23Z</td>\n",
       "      <td>5</td>\n",
       "      <td>2017-02-13</td>\n",
       "      <td>2017-02-13T11:56:35Z</td>\n",
       "      <td>2667883540</td>\n",
       "      <td>1487257548</td>\n",
       "      <td>1,22</td>\n",
       "    </tr>\n",
       "    <tr>\n",
       "      <th>2</th>\n",
       "      <td>desktop</td>\n",
       "      <td>2017-02-18T12:43:27Z</td>\n",
       "      <td>1</td>\n",
       "      <td>2017-02-18</td>\n",
       "      <td>2017-02-18T12:37:45Z</td>\n",
       "      <td>2667883540</td>\n",
       "      <td>1487257548</td>\n",
       "      <td>1,22</td>\n",
       "    </tr>\n",
       "    <tr>\n",
       "      <th>3</th>\n",
       "      <td>touch</td>\n",
       "      <td>2016-10-28T16:19:08Z</td>\n",
       "      <td>3</td>\n",
       "      <td>2016-10-28</td>\n",
       "      <td>2016-10-28T16:01:56Z</td>\n",
       "      <td>1521744</td>\n",
       "      <td>1477660077</td>\n",
       "      <td>3,3</td>\n",
       "    </tr>\n",
       "    <tr>\n",
       "      <th>4</th>\n",
       "      <td>desktop</td>\n",
       "      <td>2016-07-05T23:40:06Z</td>\n",
       "      <td>4</td>\n",
       "      <td>2016-07-05</td>\n",
       "      <td>2016-07-05T23:37:01Z</td>\n",
       "      <td>1220989698</td>\n",
       "      <td>1484831397</td>\n",
       "      <td>0,92</td>\n",
       "    </tr>\n",
       "  </tbody>\n",
       "</table>\n",
       "</div>"
      ],
      "text/plain": [
       "    device                end_ts  source_id    start_dt              start_ts  \\\n",
       "0  desktop  2017-02-16T18:59:51Z          5  2017-02-16  2017-02-16T17:48:12Z   \n",
       "1  desktop  2017-02-13T12:36:23Z          5  2017-02-13  2017-02-13T11:56:35Z   \n",
       "2  desktop  2017-02-18T12:43:27Z          1  2017-02-18  2017-02-18T12:37:45Z   \n",
       "3    touch  2016-10-28T16:19:08Z          3  2016-10-28  2016-10-28T16:01:56Z   \n",
       "4  desktop  2016-07-05T23:40:06Z          4  2016-07-05  2016-07-05T23:37:01Z   \n",
       "\n",
       "          uid      buy_ts revenue  \n",
       "0  2667883540  1487257548    1,22  \n",
       "1  2667883540  1487257548    1,22  \n",
       "2  2667883540  1487257548    1,22  \n",
       "3     1521744  1477660077     3,3  \n",
       "4  1220989698  1484831397    0,92  "
      ]
     },
     "execution_count": 10,
     "metadata": {},
     "output_type": "execute_result"
    }
   ],
   "source": [
    "joined_df.head()"
   ]
  },
  {
   "cell_type": "code",
   "execution_count": 15,
   "metadata": {},
   "outputs": [],
   "source": [
    "user_lifetime = joined_df.sort_values(['uid', 'buy_ts']).values\n",
    "user_lifetime = user_lifetime[:, 5:7]"
   ]
  },
  {
   "cell_type": "code",
   "execution_count": 20,
   "metadata": {},
   "outputs": [
    {
     "data": {
      "text/plain": [
       "array([[157352, 1466676501],\n",
       "       [157352, 1466676501],\n",
       "       [256370, 1465830473],\n",
       "       [308857, 1466662049],\n",
       "       [352142, 1487346066]], dtype=object)"
      ]
     },
     "execution_count": 20,
     "metadata": {},
     "output_type": "execute_result"
    }
   ],
   "source": [
    "user_lifetime[:5]"
   ]
  },
  {
   "cell_type": "code",
   "execution_count": 64,
   "metadata": {},
   "outputs": [
    {
     "data": {
      "text/plain": [
       "86400"
      ]
     },
     "execution_count": 64,
     "metadata": {},
     "output_type": "execute_result"
    }
   ],
   "source": [
    "60 * 60 * 24"
   ]
  },
  {
   "cell_type": "code",
   "execution_count": 65,
   "metadata": {},
   "outputs": [],
   "source": [
    "current_user_id = -1\n",
    "start_timestamp = -1\n",
    "prev_timestamp = -1\n",
    "lifetimes = {}\n",
    "for row in user_lifetime:\n",
    "    uid, timestamp = row\n",
    "    if uid != current_user_id:\n",
    "        lifetime = prev_timestamp - start_timestamp\n",
    "        lifetimes[current_user_id] = lifetime // 86400 if lifetime > 0 else 1\n",
    "        current_user_id = uid\n",
    "        start_timestamp = timestamp\n",
    "    prev_timestamp = timestamp\n",
    "lifetime = prev_timestamp - start_timestamp\n",
    "lifetimes[current_user_id] = lifetime // 86400 if lifetime > 0 else 1"
   ]
  },
  {
   "cell_type": "code",
   "execution_count": 37,
   "metadata": {},
   "outputs": [
    {
     "data": {
      "text/html": [
       "<div>\n",
       "<style scoped>\n",
       "    .dataframe tbody tr th:only-of-type {\n",
       "        vertical-align: middle;\n",
       "    }\n",
       "\n",
       "    .dataframe tbody tr th {\n",
       "        vertical-align: top;\n",
       "    }\n",
       "\n",
       "    .dataframe thead th {\n",
       "        text-align: right;\n",
       "    }\n",
       "</style>\n",
       "<table border=\"1\" class=\"dataframe\">\n",
       "  <thead>\n",
       "    <tr style=\"text-align: right;\">\n",
       "      <th></th>\n",
       "      <th>device</th>\n",
       "      <th>end_ts</th>\n",
       "      <th>source_id</th>\n",
       "      <th>start_dt</th>\n",
       "      <th>start_ts</th>\n",
       "      <th>uid</th>\n",
       "      <th>buy_ts</th>\n",
       "      <th>revenue</th>\n",
       "    </tr>\n",
       "  </thead>\n",
       "  <tbody>\n",
       "    <tr>\n",
       "      <th>0</th>\n",
       "      <td>desktop</td>\n",
       "      <td>2017-02-16T18:59:51Z</td>\n",
       "      <td>5</td>\n",
       "      <td>2017-02-16</td>\n",
       "      <td>2017-02-16T17:48:12Z</td>\n",
       "      <td>2667883540</td>\n",
       "      <td>1487257548</td>\n",
       "      <td>1,22</td>\n",
       "    </tr>\n",
       "    <tr>\n",
       "      <th>1</th>\n",
       "      <td>desktop</td>\n",
       "      <td>2017-02-13T12:36:23Z</td>\n",
       "      <td>5</td>\n",
       "      <td>2017-02-13</td>\n",
       "      <td>2017-02-13T11:56:35Z</td>\n",
       "      <td>2667883540</td>\n",
       "      <td>1487257548</td>\n",
       "      <td>1,22</td>\n",
       "    </tr>\n",
       "    <tr>\n",
       "      <th>2</th>\n",
       "      <td>desktop</td>\n",
       "      <td>2017-02-18T12:43:27Z</td>\n",
       "      <td>1</td>\n",
       "      <td>2017-02-18</td>\n",
       "      <td>2017-02-18T12:37:45Z</td>\n",
       "      <td>2667883540</td>\n",
       "      <td>1487257548</td>\n",
       "      <td>1,22</td>\n",
       "    </tr>\n",
       "    <tr>\n",
       "      <th>3</th>\n",
       "      <td>touch</td>\n",
       "      <td>2016-10-28T16:19:08Z</td>\n",
       "      <td>3</td>\n",
       "      <td>2016-10-28</td>\n",
       "      <td>2016-10-28T16:01:56Z</td>\n",
       "      <td>1521744</td>\n",
       "      <td>1477660077</td>\n",
       "      <td>3,3</td>\n",
       "    </tr>\n",
       "    <tr>\n",
       "      <th>4</th>\n",
       "      <td>desktop</td>\n",
       "      <td>2016-07-05T23:40:06Z</td>\n",
       "      <td>4</td>\n",
       "      <td>2016-07-05</td>\n",
       "      <td>2016-07-05T23:37:01Z</td>\n",
       "      <td>1220989698</td>\n",
       "      <td>1484831397</td>\n",
       "      <td>0,92</td>\n",
       "    </tr>\n",
       "  </tbody>\n",
       "</table>\n",
       "</div>"
      ],
      "text/plain": [
       "    device                end_ts  source_id    start_dt              start_ts  \\\n",
       "0  desktop  2017-02-16T18:59:51Z          5  2017-02-16  2017-02-16T17:48:12Z   \n",
       "1  desktop  2017-02-13T12:36:23Z          5  2017-02-13  2017-02-13T11:56:35Z   \n",
       "2  desktop  2017-02-18T12:43:27Z          1  2017-02-18  2017-02-18T12:37:45Z   \n",
       "3    touch  2016-10-28T16:19:08Z          3  2016-10-28  2016-10-28T16:01:56Z   \n",
       "4  desktop  2016-07-05T23:40:06Z          4  2016-07-05  2016-07-05T23:37:01Z   \n",
       "\n",
       "          uid      buy_ts revenue  \n",
       "0  2667883540  1487257548    1,22  \n",
       "1  2667883540  1487257548    1,22  \n",
       "2  2667883540  1487257548    1,22  \n",
       "3     1521744  1477660077     3,3  \n",
       "4  1220989698  1484831397    0,92  "
      ]
     },
     "execution_count": 37,
     "metadata": {},
     "output_type": "execute_result"
    }
   ],
   "source": [
    "joined_df.head()"
   ]
  },
  {
   "cell_type": "code",
   "execution_count": 47,
   "metadata": {},
   "outputs": [],
   "source": [
    "user_revenue = joined_df.sort_values(['uid', 'buy_ts']).values\n",
    "user_revenue_table = user_revenue[:, 5:8]"
   ]
  },
  {
   "cell_type": "code",
   "execution_count": 27,
   "metadata": {},
   "outputs": [
    {
     "data": {
      "text/plain": [
       "15552000"
      ]
     },
     "execution_count": 27,
     "metadata": {},
     "output_type": "execute_result"
    }
   ],
   "source": [
    "6 * 30 * 24 * 60 * 60"
   ]
  },
  {
   "cell_type": "code",
   "execution_count": 56,
   "metadata": {},
   "outputs": [],
   "source": [
    "current_user_id = -1\n",
    "start_timestamp = -1\n",
    "handled_revenue = 0\n",
    "user_revenue = {}\n",
    "for row in user_revenue_table:\n",
    "    uid, timestamp, revenue = row\n",
    "    revenue = float(revenue.replace(',', '.'))\n",
    "    if uid == current_user_id and timestamp - start_timestamp > 15552000:\n",
    "        continue\n",
    "    if uid != current_user_id:\n",
    "        user_revenue[current_user_id] = handled_revenue if handled_revenue > 0 else revenue\n",
    "        handled_revenue = 0\n",
    "        current_user_id = uid\n",
    "    handled_revenue += revenue"
   ]
  },
  {
   "cell_type": "code",
   "execution_count": 57,
   "metadata": {},
   "outputs": [
    {
     "data": {
      "text/plain": [
       "[2.83, 2.83, 1.22, 3.67, 1.59, 3.05, 12.83, 1.1, 1.71, 4.64]"
      ]
     },
     "execution_count": 57,
     "metadata": {},
     "output_type": "execute_result"
    }
   ],
   "source": [
    "list(user_revenue.values())[:10]"
   ]
  },
  {
   "cell_type": "code",
   "execution_count": 59,
   "metadata": {},
   "outputs": [],
   "source": [
    "user_revenue[current_user_id] = handled_revenue"
   ]
  },
  {
   "cell_type": "code",
   "execution_count": 61,
   "metadata": {},
   "outputs": [
    {
     "data": {
      "text/plain": [
       "(51637, 51637)"
      ]
     },
     "execution_count": 61,
     "metadata": {},
     "output_type": "execute_result"
    }
   ],
   "source": [
    "len(user_revenue), len(lifetimes)"
   ]
  },
  {
   "cell_type": "code",
   "execution_count": 66,
   "metadata": {},
   "outputs": [],
   "source": [
    "ltv = {}\n",
    "for uid in user_revenue.keys():\n",
    "    lifetime = lifetimes[uid]\n",
    "    revenue = user_revenue[uid]\n",
    "    ltv[uid] = lifetime * revenue"
   ]
  },
  {
   "cell_type": "code",
   "execution_count": 67,
   "metadata": {},
   "outputs": [
    {
     "data": {
      "text/plain": [
       "[2.83, 2.83, 1.22, 3.67, 1.59, 3.05, 12.83, 1.1, 1.71, 747.04]"
      ]
     },
     "execution_count": 67,
     "metadata": {},
     "output_type": "execute_result"
    }
   ],
   "source": [
    "list(ltv.values())[:10]"
   ]
  }
 ],
 "metadata": {
  "kernelspec": {
   "display_name": "Python 3",
   "language": "python",
   "name": "python3"
  },
  "language_info": {
   "codemirror_mode": {
    "name": "ipython",
    "version": 3
   },
   "file_extension": ".py",
   "mimetype": "text/x-python",
   "name": "python",
   "nbconvert_exporter": "python",
   "pygments_lexer": "ipython3",
   "version": "3.8.5"
  }
 },
 "nbformat": 4,
 "nbformat_minor": 4
}
